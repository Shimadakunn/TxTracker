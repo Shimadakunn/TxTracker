{
 "cells": [
  {
   "attachments": {},
   "cell_type": "markdown",
   "metadata": {},
   "source": [
    "# Tx Tracker\n",
    "This is an Application which will display you the big transaction between CEX during the last month\n",
    "\n",
    "## 1. Imports"
   ]
  },
  {
   "cell_type": "code",
   "execution_count": 29,
   "metadata": {},
   "outputs": [],
   "source": [
    "import csv\n",
    "import numpy as np\n",
    "import tweepy\n",
    "import graphviz\n",
    "import pandas as p\n",
    "from datetime import datetime"
   ]
  },
  {
   "attachments": {},
   "cell_type": "markdown",
   "metadata": {},
   "source": [
    "## 2. Settings"
   ]
  },
  {
   "cell_type": "code",
   "execution_count": 30,
   "metadata": {},
   "outputs": [],
   "source": [
    "bearer_token = \"Your_Bear_Token\"\n",
    "username = \"whale_alert\"\n",
    "csv_file = \"Tx.csv\"\n",
    "with open(csv_file, 'w') as w_file:\n",
    "    writer = csv.writer(w_file)\n",
    "    writer.writerows([[\"date\",\"amount\",\"from\",\"to\"]])\n",
    "limit_date = \"2023-01-27\""
   ]
  },
  {
   "attachments": {},
   "cell_type": "markdown",
   "metadata": {},
   "source": [
    "## 3. Data Collection and storing in CSV\n",
    "\n",
    "- Connecting to Twitter API"
   ]
  },
  {
   "cell_type": "code",
   "execution_count": 31,
   "metadata": {},
   "outputs": [],
   "source": [
    "auth = tweepy.OAuth2BearerHandler(bearer_token)\n",
    "api = tweepy.API(auth)"
   ]
  },
  {
   "attachments": {},
   "cell_type": "markdown",
   "metadata": {},
   "source": [
    "- Defining methods for different types of Tweets (i.e. transactions, minting, burning, appending to csv file)"
   ]
  },
  {
   "cell_type": "code",
   "execution_count": 32,
   "metadata": {},
   "outputs": [],
   "source": [
    "def csv_append(date,amount,from_wallet,to_wallet):\n",
    "    with open(csv_file, 'a') as a_file:\n",
    "        writer_append = csv.writer(a_file)\n",
    "        writer_append.writerow([date,amount,from_wallet,to_wallet])\n",
    "\n",
    "def transaction(status):\n",
    "    date = status.created_at\n",
    "    text = status.text\n",
    "    \n",
    "    text = text.replace(\",\",\"\")\n",
    "    text = text.replace(\"#\",\"\")\n",
    "    \n",
    "    date = date.date()\n",
    "    amount = int(text.split(\"(\")[1].split(\" USD\")[0])\n",
    "    from_wallet = text.split(\"from \")[1].split(\" to\")[0]\n",
    "    to_wallet = text.split(\"to \")[1].split(\"\\n\")[0]\n",
    "\n",
    "    csv_append(date,amount,from_wallet,to_wallet)\n",
    "\n",
    "def burning(status):\n",
    "    date = status.created_at\n",
    "    text = status.text\n",
    "    \n",
    "    text = text.replace(\",\",\"\")\n",
    "    text = text.replace(\"#\",\"\")\n",
    "    \n",
    "    date = date.date()\n",
    "    amount = -int(text.split(\"(\")[1].split(\" USD\")[0])\n",
    "    from_wallet = text.split(\"at \")[1].split(\"\\n\")[0]\n",
    "    to_wallet = \"Burn\"\n",
    "\n",
    "    csv_append(date,amount,from_wallet,to_wallet)\n",
    "\n",
    "def minting(status):\n",
    "    date = status.created_at\n",
    "    text = status.text\n",
    "    \n",
    "    text = text.replace(\",\",\"\")\n",
    "    text = text.replace(\"#\",\"\")\n",
    "    \n",
    "    date = date.date()\n",
    "    amount = int(text.split(\"(\")[1].split(\" USD\")[0])\n",
    "    from_wallet = text.split(\"at \")[1].split(\"\\n\")[0]\n",
    "    to_wallet = \"Mint\"\n",
    "\n",
    "    csv_append(date,amount,from_wallet,to_wallet)"
   ]
  },
  {
   "attachments": {},
   "cell_type": "markdown",
   "metadata": {},
   "source": [
    "- Then parcours all the tweets of the account until a date time and writing data in csv file"
   ]
  },
  {
   "cell_type": "code",
   "execution_count": 33,
   "metadata": {},
   "outputs": [
    {
     "ename": "IndexError",
     "evalue": "list index out of range",
     "output_type": "error",
     "traceback": [
      "\u001b[1;31m---------------------------------------------------------------------------\u001b[0m",
      "\u001b[1;31mIndexError\u001b[0m                                Traceback (most recent call last)",
      "Cell \u001b[1;32mIn[33], line 3\u001b[0m\n\u001b[0;32m      1\u001b[0m \u001b[39mfor\u001b[39;00m status \u001b[39min\u001b[39;00m tweepy\u001b[39m.\u001b[39mCursor(api\u001b[39m.\u001b[39muser_timeline, screen_name\u001b[39m=\u001b[39musername)\u001b[39m.\u001b[39mitems():\n\u001b[0;32m      2\u001b[0m     \u001b[39mif\u001b[39;00m(status\u001b[39m.\u001b[39mtext[\u001b[39m0\u001b[39m] \u001b[39m==\u001b[39m \u001b[39m\"\u001b[39m\u001b[39m🚨\u001b[39m\u001b[39m\"\u001b[39m):\n\u001b[1;32m----> 3\u001b[0m         transaction(status)\n\u001b[0;32m      4\u001b[0m     \u001b[39mif\u001b[39;00m(status\u001b[39m.\u001b[39mtext[\u001b[39m0\u001b[39m] \u001b[39m==\u001b[39m \u001b[39m\"\u001b[39m\u001b[39m💵\u001b[39m\u001b[39m\"\u001b[39m):\n\u001b[0;32m      5\u001b[0m         minting(status)\n",
      "Cell \u001b[1;32mIn[32], line 14\u001b[0m, in \u001b[0;36mtransaction\u001b[1;34m(status)\u001b[0m\n\u001b[0;32m     11\u001b[0m text \u001b[39m=\u001b[39m text\u001b[39m.\u001b[39mreplace(\u001b[39m\"\u001b[39m\u001b[39m#\u001b[39m\u001b[39m\"\u001b[39m,\u001b[39m\"\u001b[39m\u001b[39m\"\u001b[39m)\n\u001b[0;32m     13\u001b[0m date \u001b[39m=\u001b[39m date\u001b[39m.\u001b[39mdate()\n\u001b[1;32m---> 14\u001b[0m amount \u001b[39m=\u001b[39m \u001b[39mint\u001b[39m(text\u001b[39m.\u001b[39;49msplit(\u001b[39m\"\u001b[39;49m\u001b[39m(\u001b[39;49m\u001b[39m\"\u001b[39;49m)[\u001b[39m1\u001b[39;49m]\u001b[39m.\u001b[39msplit(\u001b[39m\"\u001b[39m\u001b[39m USD\u001b[39m\u001b[39m\"\u001b[39m)[\u001b[39m0\u001b[39m])\n\u001b[0;32m     15\u001b[0m from_wallet \u001b[39m=\u001b[39m text\u001b[39m.\u001b[39msplit(\u001b[39m\"\u001b[39m\u001b[39mfrom \u001b[39m\u001b[39m\"\u001b[39m)[\u001b[39m1\u001b[39m]\u001b[39m.\u001b[39msplit(\u001b[39m\"\u001b[39m\u001b[39m to\u001b[39m\u001b[39m\"\u001b[39m)[\u001b[39m0\u001b[39m]\n\u001b[0;32m     16\u001b[0m to_wallet \u001b[39m=\u001b[39m text\u001b[39m.\u001b[39msplit(\u001b[39m\"\u001b[39m\u001b[39mto \u001b[39m\u001b[39m\"\u001b[39m)[\u001b[39m1\u001b[39m]\u001b[39m.\u001b[39msplit(\u001b[39m\"\u001b[39m\u001b[39m\\n\u001b[39;00m\u001b[39m\"\u001b[39m)[\u001b[39m0\u001b[39m]\n",
      "\u001b[1;31mIndexError\u001b[0m: list index out of range"
     ]
    }
   ],
   "source": [
    "for status in tweepy.Cursor(api.user_timeline, screen_name=username).items():\n",
    "    if(status.text[0] == \"🚨\"):\n",
    "        transaction(status)\n",
    "    if(status.text[0] == \"💵\"):\n",
    "        minting(status)\n",
    "    if(status.text[0] == \"🔥\"):\n",
    "        burning(status)\n",
    "# # https://docs.tweepy.org/en/stable/api.html#tweepy.API.user_timeline"
   ]
  },
  {
   "attachments": {},
   "cell_type": "markdown",
   "metadata": {},
   "source": [
    "## 4. Data Analyze\n",
    "\n",
    "- Extract all exchange"
   ]
  },
  {
   "cell_type": "code",
   "execution_count": 34,
   "metadata": {},
   "outputs": [],
   "source": [
    "dot = graphviz.Digraph(comment='Tx tracker')\n",
    "dot_style = {'color' : '#E63946', 'style' : 'filled', 'shape' : 'circle', 'width' : '1.5'}\n",
    "\n",
    "def create_node(db):\n",
    "    for i in db.index:\n",
    "        name = db[\"from\"][i]\n",
    "        amount = int(db[\"amount\"][i]/10**6)\n",
    "        if(len(name) < 4):\n",
    "            tag = name\n",
    "        else:\n",
    "            tag = name[:4]\n",
    "        if(len(name.split()) > 2):\n",
    "            name = name.split()[:2]\n",
    "            name = name[0] + \" \" + name[1]\n",
    "        dot.node(tag.lower(),name+\"\\n\"+str(amount)+\"M $\",dot_style)\n",
    "\n",
    "def create_db(db):\n",
    "    burn_mint_db = db[db['to'] == \"Burn\"]\n",
    "    burn_mint_db = burn_mint_db.append(db[db['to'] == \"Mint\"])\n",
    "    burn_mint_db = burn_mint_db[burn_mint_db['from'] != \"unknown wallet\"]\n",
    "    burn_mint_db = burn_mint_db.groupby([\"from\"])['amount'].sum().reset_index()\n",
    "\n",
    "    tx_db = db[db['to'] != \"Mint\"]\n",
    "    tx_db = tx_db[tx_db['to'] != \"Burn\"]\n",
    "    tx_db = tx_db.groupby([\"from\",\"to\"])['amount'].sum().reset_index()\n",
    "\n",
    "    return burn_mint_db,tx_db\n",
    "\n",
    "def create_earning_db(burn_mint_db,tx_db):\n",
    "    from_db = tx_db.groupby([\"from\"])['amount'].sum().reset_index()\n",
    "    to_db = tx_db.groupby([\"to\"])['amount'].sum().reset_index().rename(columns = {\"to\" : \"from\"})\n",
    "    tx_sum_db = p.merge(from_db, to_db, on='from',how='outer')\n",
    "    tx_sum_db = tx_sum_db.fillna(0)\n",
    "    tx_sum_db.amount_x = tx_sum_db.amount_x.astype(int)\n",
    "    tx_sum_db.amount_y = tx_sum_db.amount_y.astype(int)\n",
    "    tx_sum_db['amount'] = tx_sum_db['amount_y'] - tx_sum_db['amount_x']\n",
    "    tx_sum_db = tx_sum_db.drop(columns=['amount_x', 'amount_y'])\n",
    "    tx_sum_db = p.merge(tx_sum_db, burn_mint_db, on='from',how='outer')\n",
    "    tx_sum_db = tx_sum_db.fillna(0)\n",
    "    tx_sum_db.amount_x = tx_sum_db.amount_x.astype(int)\n",
    "    tx_sum_db.amount_y = tx_sum_db.amount_y.astype(int)\n",
    "    tx_sum_db['amount'] = tx_sum_db['amount_y'] + tx_sum_db['amount_x']\n",
    "    tx_sum_db = tx_sum_db.drop(columns=['amount_x', 'amount_y'])\n",
    "    return tx_sum_db"
   ]
  },
  {
   "cell_type": "code",
   "execution_count": 35,
   "metadata": {},
   "outputs": [
    {
     "name": "stderr",
     "output_type": "stream",
     "text": [
      "C:\\Users\\lcomb\\AppData\\Local\\Temp\\ipykernel_7244\\1304114681.py:19: FutureWarning: The frame.append method is deprecated and will be removed from pandas in a future version. Use pandas.concat instead.\n",
      "  burn_mint_db = burn_mint_db.append(db[db['to'] == \"Mint\"])\n",
      "c:\\Users\\lcomb\\AppData\\Local\\Programs\\Python\\Python310\\lib\\site-packages\\pandas\\core\\dtypes\\astype.py:189: RuntimeWarning: invalid value encountered in cast\n",
      "  return values.astype(dtype, copy=copy)\n",
      "c:\\Users\\lcomb\\AppData\\Local\\Programs\\Python\\Python310\\lib\\site-packages\\pandas\\core\\dtypes\\astype.py:189: RuntimeWarning: invalid value encountered in cast\n",
      "  return values.astype(dtype, copy=copy)\n"
     ]
    }
   ],
   "source": [
    "db = p.read_csv(csv_file)\n",
    "db = db[db['date'] >= limit_date]\n",
    "\n",
    "burn_mint_db,tx_db = create_db(db)\n",
    "total_earning_db = create_earning_db(burn_mint_db,tx_db)\n",
    "create_node(total_earning_db)\n",
    "\n",
    "for ind in tx_db.index:\n",
    "    name_from = tx_db['from'][ind]\n",
    "    name_to = tx_db['to'][ind]\n",
    "    if(len(name_from) < 4):\n",
    "        tag_from = name_from\n",
    "    else:\n",
    "        tag_from = name_from[:4]\n",
    "    if(len(name_to) < 4):\n",
    "        tag_to = name_to\n",
    "    else:\n",
    "        tag_to = name_to[:4]\n",
    "    tx_amount = int(tx_db['amount'][ind] / 10**6)\n",
    "    dot.edge(tag_from.lower(),tag_to.lower(),label = str(tx_amount)+\"M $\",color = \"grey\",style=\"dashed\")\n",
    "\n",
    "for ind in burn_mint_db.index:\n",
    "    name_from = burn_mint_db['from'][ind]\n",
    "    if(len(name_from) < 4):\n",
    "        tag_from = name_from\n",
    "    else:\n",
    "        tag_from = name_from[:4]\n",
    "    tx_amount = int(burn_mint_db['amount'][ind] / 10**6)\n",
    "    dot.edge(tag_from.lower(),tag_from.lower(),label = str(tx_amount)+\"M $\",color = \"grey\",style=\"dashed\")\n"
   ]
  },
  {
   "attachments": {},
   "cell_type": "markdown",
   "metadata": {},
   "source": [
    "- Represent them in a graph"
   ]
  },
  {
   "cell_type": "code",
   "execution_count": 36,
   "metadata": {},
   "outputs": [
    {
     "data": {
      "image/svg+xml": "<?xml version=\"1.0\" encoding=\"UTF-8\" standalone=\"no\"?>\n<!DOCTYPE svg PUBLIC \"-//W3C//DTD SVG 1.1//EN\"\n \"http://www.w3.org/Graphics/SVG/1.1/DTD/svg11.dtd\">\n<!-- Generated by graphviz version 7.0.5 (20221223.1930)\n -->\n<!-- Pages: 1 -->\n<svg width=\"2391pt\" height=\"776pt\"\n viewBox=\"0.00 0.00 2390.93 776.07\" xmlns=\"http://www.w3.org/2000/svg\" xmlns:xlink=\"http://www.w3.org/1999/xlink\">\n<g id=\"graph0\" class=\"graph\" transform=\"scale(1 1) rotate(0) translate(4 772.07)\">\n<polygon fill=\"white\" stroke=\"none\" points=\"-4,4 -4,-772.07 2386.93,-772.07 2386.93,4 -4,4\"/>\n<!-- aave -->\n<g id=\"node1\" class=\"node\">\n<title>aave</title>\n<ellipse fill=\"#e63946\" stroke=\"#e63946\" cx=\"1227.93\" cy=\"-710.91\" rx=\"54\" ry=\"54\"/>\n<text text-anchor=\"middle\" x=\"1227.93\" y=\"-714.71\" font-family=\"Times New Roman,serif\" font-size=\"14.00\">Aave</text>\n<text text-anchor=\"middle\" x=\"1227.93\" y=\"-699.71\" font-family=\"Times New Roman,serif\" font-size=\"14.00\">&#45;51M $</text>\n</g>\n<!-- unkn -->\n<g id=\"node24\" class=\"node\">\n<title>unkn</title>\n<ellipse fill=\"#e63946\" stroke=\"#e63946\" cx=\"1174.93\" cy=\"-547.74\" rx=\"55.04\" ry=\"55.04\"/>\n<text text-anchor=\"middle\" x=\"1174.93\" y=\"-551.54\" font-family=\"Times New Roman,serif\" font-size=\"14.00\">unknown wallet</text>\n<text text-anchor=\"middle\" x=\"1174.93\" y=\"-536.54\" font-family=\"Times New Roman,serif\" font-size=\"14.00\">0M $</text>\n</g>\n<!-- aave&#45;&gt;unkn -->\n<g id=\"edge1\" class=\"edge\">\n<title>aave&#45;&gt;unkn</title>\n<path fill=\"none\" stroke=\"grey\" stroke-dasharray=\"5,2\" d=\"M1216.56,-657.64C1213.48,-645.43 1209.89,-632.55 1205.93,-620.76 1204.62,-616.85 1203.18,-612.86 1201.67,-608.86\"/>\n<polygon fill=\"grey\" stroke=\"grey\" points=\"1204.99,-607.74 1198.08,-599.71 1198.48,-610.3 1204.99,-607.74\"/>\n<text text-anchor=\"middle\" x=\"1229.43\" y=\"-624.56\" font-family=\"Times New Roman,serif\" font-size=\"14.00\">60M $</text>\n</g>\n<!-- bina -->\n<g id=\"node2\" class=\"node\">\n<title>bina</title>\n<ellipse fill=\"#e63946\" stroke=\"#e63946\" cx=\"1862.93\" cy=\"-384.03\" rx=\"54\" ry=\"54\"/>\n<text text-anchor=\"middle\" x=\"1862.93\" y=\"-387.83\" font-family=\"Times New Roman,serif\" font-size=\"14.00\">Binance</text>\n<text text-anchor=\"middle\" x=\"1862.93\" y=\"-372.83\" font-family=\"Times New Roman,serif\" font-size=\"14.00\">1232M $</text>\n</g>\n<!-- bina&#45;&gt;bina -->\n<g id=\"edge57\" class=\"edge\">\n<title>bina&#45;&gt;bina</title>\n<path fill=\"none\" stroke=\"grey\" stroke-dasharray=\"5,2\" d=\"M1915.03,-399.21C1926.55,-397.79 1934.93,-392.73 1934.93,-384.03 1934.93,-378.47 1931.49,-374.39 1925.99,-371.8\"/>\n<polygon fill=\"grey\" stroke=\"grey\" points=\"1927.06,-368.47 1916.49,-369.25 1925.24,-375.23 1927.06,-368.47\"/>\n<text text-anchor=\"middle\" x=\"1962.43\" y=\"-380.33\" font-family=\"Times New Roman,serif\" font-size=\"14.00\">&#45;4944M $</text>\n</g>\n<!-- bitf -->\n<g id=\"node3\" class=\"node\">\n<title>bitf</title>\n<ellipse fill=\"#e63946\" stroke=\"#e63946\" cx=\"2152.93\" cy=\"-219.79\" rx=\"54\" ry=\"54\"/>\n<text text-anchor=\"middle\" x=\"2152.93\" y=\"-223.59\" font-family=\"Times New Roman,serif\" font-size=\"14.00\">Bitfinex</text>\n<text text-anchor=\"middle\" x=\"2152.93\" y=\"-208.59\" font-family=\"Times New Roman,serif\" font-size=\"14.00\">378M $</text>\n</g>\n<!-- bina&#45;&gt;bitf -->\n<g id=\"edge2\" class=\"edge\">\n<title>bina&#45;&gt;bitf</title>\n<path fill=\"none\" stroke=\"grey\" stroke-dasharray=\"5,2\" d=\"M1912.6,-362.01C1944.45,-347.97 1986.35,-328.44 2021.93,-308.35 2026.08,-306 2064.55,-280.25 2098.74,-257.28\"/>\n<polygon fill=\"grey\" stroke=\"grey\" points=\"2100.63,-260.22 2106.98,-251.74 2096.73,-254.42 2100.63,-260.22\"/>\n<text text-anchor=\"middle\" x=\"2058.93\" y=\"-297.15\" font-family=\"Times New Roman,serif\" font-size=\"14.00\">6M $</text>\n</g>\n<!-- cryp -->\n<g id=\"node8\" class=\"node\">\n<title>cryp</title>\n<ellipse fill=\"#e63946\" stroke=\"#e63946\" cx=\"1740.93\" cy=\"-219.79\" rx=\"54\" ry=\"54\"/>\n<text text-anchor=\"middle\" x=\"1740.93\" y=\"-223.59\" font-family=\"Times New Roman,serif\" font-size=\"14.00\">CryptoCom</text>\n<text text-anchor=\"middle\" x=\"1740.93\" y=\"-208.59\" font-family=\"Times New Roman,serif\" font-size=\"14.00\">163M $</text>\n</g>\n<!-- bina&#45;&gt;cryp -->\n<g id=\"edge3\" class=\"edge\">\n<title>bina&#45;&gt;cryp</title>\n<path fill=\"none\" stroke=\"grey\" stroke-dasharray=\"5,2\" d=\"M1823.74,-346.8C1812.16,-335.11 1799.92,-321.7 1789.93,-308.35 1782.98,-299.04 1776.32,-288.65 1770.28,-278.36\"/>\n<polygon fill=\"grey\" stroke=\"grey\" points=\"1773.43,-276.82 1765.43,-269.88 1767.35,-280.3 1773.43,-276.82\"/>\n<text text-anchor=\"middle\" x=\"1808.43\" y=\"-297.15\" font-family=\"Times New Roman,serif\" font-size=\"14.00\">10M $</text>\n</g>\n<!-- paxo -->\n<g id=\"node18\" class=\"node\">\n<title>paxo</title>\n<ellipse fill=\"#e63946\" stroke=\"#e63946\" cx=\"1899.93\" cy=\"-219.79\" rx=\"55.6\" ry=\"55.6\"/>\n<text text-anchor=\"middle\" x=\"1899.93\" y=\"-223.59\" font-family=\"Times New Roman,serif\" font-size=\"14.00\">Paxos Treasury</text>\n<text text-anchor=\"middle\" x=\"1899.93\" y=\"-208.59\" font-family=\"Times New Roman,serif\" font-size=\"14.00\">&#45;1453M $</text>\n</g>\n<!-- bina&#45;&gt;paxo -->\n<g id=\"edge4\" class=\"edge\">\n<title>bina&#45;&gt;paxo</title>\n<path fill=\"none\" stroke=\"grey\" stroke-dasharray=\"5,2\" d=\"M1836.42,-336.57C1831.63,-322.55 1829.63,-307.21 1834.93,-293.35 1838.66,-283.6 1844.36,-274.34 1850.88,-265.9\"/>\n<polygon fill=\"grey\" stroke=\"grey\" points=\"1853.54,-268.16 1857.24,-258.23 1848.16,-263.69 1853.54,-268.16\"/>\n<text text-anchor=\"middle\" x=\"1856.43\" y=\"-297.15\" font-family=\"Times New Roman,serif\" font-size=\"14.00\">749M $</text>\n</g>\n<!-- bina&#45;&gt;unkn -->\n<g id=\"edge5\" class=\"edge\">\n<title>bina&#45;&gt;unkn</title>\n<path fill=\"none\" stroke=\"grey\" stroke-dasharray=\"5,2\" d=\"M1835.84,-430.78C1823.64,-447.35 1807.72,-464.49 1788.93,-474.72 1695.77,-525.48 1380.34,-540.79 1241.48,-545.13\"/>\n<polygon fill=\"grey\" stroke=\"grey\" points=\"1241.6,-541.63 1231.71,-545.43 1241.81,-548.63 1241.6,-541.63\"/>\n<text text-anchor=\"middle\" x=\"1833.93\" y=\"-463.52\" font-family=\"Times New Roman,serif\" font-size=\"14.00\">2968M $</text>\n</g>\n<!-- bitf&#45;&gt;bina -->\n<g id=\"edge6\" class=\"edge\">\n<title>bitf&#45;&gt;bina</title>\n<path fill=\"none\" stroke=\"grey\" stroke-dasharray=\"5,2\" d=\"M2104.72,-244.95C2084.32,-254.83 2060.17,-266.09 2037.93,-275.35 2016.13,-284.42 2008.84,-282.36 1987.93,-293.35 1962.07,-306.94 1935.49,-325.29 1913.53,-341.85\"/>\n<polygon fill=\"grey\" stroke=\"grey\" points=\"1911.43,-339.04 1905.62,-347.9 1915.69,-344.61 1911.43,-339.04\"/>\n<text text-anchor=\"middle\" x=\"2002.93\" y=\"-297.15\" font-family=\"Times New Roman,serif\" font-size=\"14.00\">8M $</text>\n</g>\n<!-- krak -->\n<g id=\"node15\" class=\"node\">\n<title>krak</title>\n<ellipse fill=\"#e63946\" stroke=\"#e63946\" cx=\"2311.93\" cy=\"-56.62\" rx=\"54\" ry=\"54\"/>\n<text text-anchor=\"middle\" x=\"2311.93\" y=\"-60.42\" font-family=\"Times New Roman,serif\" font-size=\"14.00\">Kraken</text>\n<text text-anchor=\"middle\" x=\"2311.93\" y=\"-45.42\" font-family=\"Times New Roman,serif\" font-size=\"14.00\">&#45;165M $</text>\n</g>\n<!-- bitf&#45;&gt;krak -->\n<g id=\"edge7\" class=\"edge\">\n<title>bitf&#45;&gt;krak</title>\n<path fill=\"none\" stroke=\"grey\" stroke-dasharray=\"5,2\" d=\"M2200.35,-193.48C2220.64,-181.08 2243.6,-164.82 2260.93,-146.24 2269.37,-137.2 2276.99,-126.51 2283.62,-115.75\"/>\n<polygon fill=\"grey\" stroke=\"grey\" points=\"2286.6,-117.59 2288.65,-107.19 2280.56,-114.04 2286.6,-117.59\"/>\n<text text-anchor=\"middle\" x=\"2292.43\" y=\"-135.04\" font-family=\"Times New Roman,serif\" font-size=\"14.00\">394M $</text>\n</g>\n<!-- teth -->\n<g id=\"node21\" class=\"node\">\n<title>teth</title>\n<ellipse fill=\"#e63946\" stroke=\"#e63946\" cx=\"2077.93\" cy=\"-56.62\" rx=\"56.74\" ry=\"56.74\"/>\n<text text-anchor=\"middle\" x=\"2077.93\" y=\"-60.42\" font-family=\"Times New Roman,serif\" font-size=\"14.00\">Tether Treasury</text>\n<text text-anchor=\"middle\" x=\"2077.93\" y=\"-45.42\" font-family=\"Times New Roman,serif\" font-size=\"14.00\">&#45;1207M $</text>\n</g>\n<!-- bitf&#45;&gt;teth -->\n<g id=\"edge8\" class=\"edge\">\n<title>bitf&#45;&gt;teth</title>\n<path fill=\"none\" stroke=\"grey\" stroke-dasharray=\"5,2\" d=\"M2141.8,-166.83C2138.39,-154.86 2134.13,-142.38 2128.93,-131.24 2125.84,-124.61 2122.16,-117.94 2118.22,-111.45\"/>\n<polygon fill=\"grey\" stroke=\"grey\" points=\"2121.42,-109.96 2113.1,-103.4 2115.51,-113.71 2121.42,-109.96\"/>\n<text text-anchor=\"middle\" x=\"2155.43\" y=\"-135.04\" font-family=\"Times New Roman,serif\" font-size=\"14.00\">940M $</text>\n</g>\n<!-- bitf&#45;&gt;unkn -->\n<g id=\"edge9\" class=\"edge\">\n<title>bitf&#45;&gt;unkn</title>\n<path fill=\"none\" stroke=\"grey\" stroke-dasharray=\"5,2\" d=\"M2179.71,-267.06C2188.64,-284.97 2197.45,-306.03 2201.93,-326.35 2216.5,-392.31 2230.66,-447.28 2168.93,-474.72 2133.35,-490.54 1857.78,-490.1 1818.93,-492.72 1607.68,-507.01 1357.92,-529.59 1241.23,-540.47\"/>\n<polygon fill=\"grey\" stroke=\"grey\" points=\"1241.16,-536.96 1231.53,-541.38 1241.81,-543.93 1241.16,-536.96\"/>\n<text text-anchor=\"middle\" x=\"2232.43\" y=\"-380.33\" font-family=\"Times New Roman,serif\" font-size=\"14.00\">81M $</text>\n</g>\n<!-- bits -->\n<g id=\"node4\" class=\"node\">\n<title>bits</title>\n<ellipse fill=\"#e63946\" stroke=\"#e63946\" cx=\"335.93\" cy=\"-384.03\" rx=\"54\" ry=\"54\"/>\n<text text-anchor=\"middle\" x=\"335.93\" y=\"-387.83\" font-family=\"Times New Roman,serif\" font-size=\"14.00\">Bitstamp</text>\n<text text-anchor=\"middle\" x=\"335.93\" y=\"-372.83\" font-family=\"Times New Roman,serif\" font-size=\"14.00\">190M $</text>\n</g>\n<!-- bits&#45;&gt;unkn -->\n<g id=\"edge10\" class=\"edge\">\n<title>bits&#45;&gt;unkn</title>\n<path fill=\"none\" stroke=\"grey\" stroke-dasharray=\"5,2\" d=\"M379.05,-417.29C408.23,-437.35 448.51,-461.71 487.93,-474.72 602.18,-512.43 959.37,-535.27 1108.49,-543.38\"/>\n<polygon fill=\"grey\" stroke=\"grey\" points=\"1108.03,-546.87 1118.2,-543.91 1108.41,-539.88 1108.03,-546.87\"/>\n<text text-anchor=\"middle\" x=\"509.43\" y=\"-463.52\" font-family=\"Times New Roman,serif\" font-size=\"14.00\">194M $</text>\n</g>\n<!-- bits&#45;&gt;unkn -->\n<g id=\"edge11\" class=\"edge\">\n<title>bits&#45;&gt;unkn</title>\n<path fill=\"none\" stroke=\"grey\" stroke-dasharray=\"5,2\" d=\"M287.41,-408.2C256.32,-426.06 225.48,-451.54 246.93,-474.72 305.21,-537.7 905.47,-545.75 1108.35,-546.67\"/>\n<polygon fill=\"grey\" stroke=\"grey\" points=\"1108.19,-550.17 1118.2,-546.71 1108.21,-543.17 1108.19,-550.17\"/>\n<text text-anchor=\"middle\" x=\"265.43\" y=\"-463.52\" font-family=\"Times New Roman,serif\" font-size=\"14.00\">62M $</text>\n</g>\n<!-- chil -->\n<g id=\"node5\" class=\"node\">\n<title>chil</title>\n<ellipse fill=\"#e63946\" stroke=\"#e63946\" cx=\"975.93\" cy=\"-710.91\" rx=\"54\" ry=\"54\"/>\n<text text-anchor=\"middle\" x=\"975.93\" y=\"-714.71\" font-family=\"Times New Roman,serif\" font-size=\"14.00\">Chiliz</text>\n<text text-anchor=\"middle\" x=\"975.93\" y=\"-699.71\" font-family=\"Times New Roman,serif\" font-size=\"14.00\">&#45;7M $</text>\n</g>\n<!-- chil&#45;&gt;unkn -->\n<g id=\"edge12\" class=\"edge\">\n<title>chil&#45;&gt;unkn</title>\n<path fill=\"none\" stroke=\"grey\" stroke-dasharray=\"5,2\" d=\"M1015.55,-673.84C1023.23,-667.07 1031.27,-660.12 1038.93,-653.76 1065.82,-631.45 1096.57,-607.57 1122.02,-588.23\"/>\n<polygon fill=\"grey\" stroke=\"grey\" points=\"1124.07,-591.06 1129.93,-582.23 1119.85,-585.48 1124.07,-591.06\"/>\n<text text-anchor=\"middle\" x=\"1094.93\" y=\"-624.56\" font-family=\"Times New Roman,serif\" font-size=\"14.00\">7M $</text>\n</g>\n<!-- coin -->\n<g id=\"node6\" class=\"node\">\n<title>coin</title>\n<ellipse fill=\"#e63946\" stroke=\"#e63946\" cx=\"106.93\" cy=\"-384.03\" rx=\"54\" ry=\"54\"/>\n<text text-anchor=\"middle\" x=\"106.93\" y=\"-387.83\" font-family=\"Times New Roman,serif\" font-size=\"14.00\">Coinbase</text>\n<text text-anchor=\"middle\" x=\"106.93\" y=\"-372.83\" font-family=\"Times New Roman,serif\" font-size=\"14.00\">1959M $</text>\n</g>\n<!-- coin&#45;&gt;unkn -->\n<g id=\"edge13\" class=\"edge\">\n<title>coin&#45;&gt;unkn</title>\n<path fill=\"none\" stroke=\"grey\" stroke-dasharray=\"5,2\" d=\"M95.5,-436.88C95.39,-450.74 98.41,-464.65 107.93,-474.72 176.61,-547.38 885.09,-548.76 1108.1,-547.36\"/>\n<polygon fill=\"grey\" stroke=\"grey\" points=\"1108.11,-550.86 1118.09,-547.3 1108.06,-543.86 1108.11,-550.86\"/>\n<text text-anchor=\"middle\" x=\"129.43\" y=\"-463.52\" font-family=\"Times New Roman,serif\" font-size=\"14.00\">188M $</text>\n</g>\n<!-- comp -->\n<g id=\"node7\" class=\"node\">\n<title>comp</title>\n<ellipse fill=\"#e63946\" stroke=\"#e63946\" cx=\"502.93\" cy=\"-384.03\" rx=\"54\" ry=\"54\"/>\n<text text-anchor=\"middle\" x=\"502.93\" y=\"-387.83\" font-family=\"Times New Roman,serif\" font-size=\"14.00\">Compound</text>\n<text text-anchor=\"middle\" x=\"502.93\" y=\"-372.83\" font-family=\"Times New Roman,serif\" font-size=\"14.00\">&#45;93M $</text>\n</g>\n<!-- comp&#45;&gt;unkn -->\n<g id=\"edge14\" class=\"edge\">\n<title>comp&#45;&gt;unkn</title>\n<path fill=\"none\" stroke=\"grey\" stroke-dasharray=\"5,2\" d=\"M540.74,-423.21C561.89,-442.09 589.8,-463.24 618.93,-474.72 706.83,-509.38 981.17,-532.89 1108.63,-542.23\"/>\n<polygon fill=\"grey\" stroke=\"grey\" points=\"1108.02,-545.69 1118.24,-542.93 1108.52,-538.71 1108.02,-545.69\"/>\n<text text-anchor=\"middle\" x=\"640.43\" y=\"-463.52\" font-family=\"Times New Roman,serif\" font-size=\"14.00\">149M $</text>\n</g>\n<!-- cryp&#45;&gt;unkn -->\n<g id=\"edge15\" class=\"edge\">\n<title>cryp&#45;&gt;unkn</title>\n<path fill=\"none\" stroke=\"grey\" stroke-dasharray=\"5,2\" d=\"M1744.78,-273.97C1748.3,-340.16 1749.39,-447.79 1721.93,-474.72 1655.22,-540.15 1372.46,-547.68 1241.72,-547.56\"/>\n<polygon fill=\"grey\" stroke=\"grey\" points=\"1241.83,-544.06 1231.82,-547.53 1241.82,-551.06 1241.83,-544.06\"/>\n<text text-anchor=\"middle\" x=\"1764.43\" y=\"-380.33\" font-family=\"Times New Roman,serif\" font-size=\"14.00\">63M $</text>\n</g>\n<!-- falc -->\n<g id=\"node9\" class=\"node\">\n<title>falc</title>\n<ellipse fill=\"#e63946\" stroke=\"#e63946\" cx=\"635.93\" cy=\"-384.03\" rx=\"54\" ry=\"54\"/>\n<text text-anchor=\"middle\" x=\"635.93\" y=\"-387.83\" font-family=\"Times New Roman,serif\" font-size=\"14.00\">FalconX</text>\n<text text-anchor=\"middle\" x=\"635.93\" y=\"-372.83\" font-family=\"Times New Roman,serif\" font-size=\"14.00\">164M $</text>\n</g>\n<!-- falc&#45;&gt;unkn -->\n<g id=\"edge16\" class=\"edge\">\n<title>falc&#45;&gt;unkn</title>\n<path fill=\"none\" stroke=\"grey\" stroke-dasharray=\"5,2\" d=\"M673.95,-422.84C695.54,-441.86 724.15,-463.26 753.93,-474.72 873.52,-520.76 1023.49,-537.46 1108.33,-543.45\"/>\n<polygon fill=\"grey\" stroke=\"grey\" points=\"1107.89,-546.93 1118.1,-544.11 1108.36,-539.95 1107.89,-546.93\"/>\n<text text-anchor=\"middle\" x=\"768.93\" y=\"-463.52\" font-family=\"Times New Roman,serif\" font-size=\"14.00\">6M $</text>\n</g>\n<!-- frax -->\n<g id=\"node10\" class=\"node\">\n<title>frax</title>\n<ellipse fill=\"#e63946\" stroke=\"#e63946\" cx=\"1101.93\" cy=\"-710.91\" rx=\"54\" ry=\"54\"/>\n<text text-anchor=\"middle\" x=\"1101.93\" y=\"-714.71\" font-family=\"Times New Roman,serif\" font-size=\"14.00\">Frax</text>\n<text text-anchor=\"middle\" x=\"1101.93\" y=\"-699.71\" font-family=\"Times New Roman,serif\" font-size=\"14.00\">&#45;5M $</text>\n</g>\n<!-- frax&#45;&gt;unkn -->\n<g id=\"edge17\" class=\"edge\">\n<title>frax&#45;&gt;unkn</title>\n<path fill=\"none\" stroke=\"grey\" stroke-dasharray=\"5,2\" d=\"M1119.11,-659.38C1123.86,-646.62 1129.28,-633.06 1134.93,-620.76 1137.17,-615.9 1139.6,-610.92 1142.13,-605.96\"/>\n<polygon fill=\"grey\" stroke=\"grey\" points=\"1145.18,-607.68 1146.72,-597.2 1138.98,-604.44 1145.18,-607.68\"/>\n<text text-anchor=\"middle\" x=\"1149.93\" y=\"-624.56\" font-family=\"Times New Roman,serif\" font-size=\"14.00\">5M $</text>\n</g>\n<!-- gate -->\n<g id=\"node11\" class=\"node\">\n<title>gate</title>\n<ellipse fill=\"#e63946\" stroke=\"#e63946\" cx=\"764.93\" cy=\"-384.03\" rx=\"54\" ry=\"54\"/>\n<text text-anchor=\"middle\" x=\"764.93\" y=\"-387.83\" font-family=\"Times New Roman,serif\" font-size=\"14.00\">GateIO</text>\n<text text-anchor=\"middle\" x=\"764.93\" y=\"-372.83\" font-family=\"Times New Roman,serif\" font-size=\"14.00\">&#45;100M $</text>\n</g>\n<!-- gate&#45;&gt;unkn -->\n<g id=\"edge18\" class=\"edge\">\n<title>gate&#45;&gt;unkn</title>\n<path fill=\"none\" stroke=\"grey\" stroke-dasharray=\"5,2\" d=\"M799.58,-425.94C816.42,-443.4 837.97,-462.52 860.93,-474.72 939.84,-516.65 1042.54,-534.3 1108.62,-541.64\"/>\n<polygon fill=\"grey\" stroke=\"grey\" points=\"1107.89,-545.08 1118.2,-542.65 1108.62,-538.12 1107.89,-545.08\"/>\n<text text-anchor=\"middle\" x=\"882.43\" y=\"-463.52\" font-family=\"Times New Roman,serif\" font-size=\"14.00\">123M $</text>\n</g>\n<!-- gemi -->\n<g id=\"node12\" class=\"node\">\n<title>gemi</title>\n<ellipse fill=\"#e63946\" stroke=\"#e63946\" cx=\"892.93\" cy=\"-384.03\" rx=\"54\" ry=\"54\"/>\n<text text-anchor=\"middle\" x=\"892.93\" y=\"-387.83\" font-family=\"Times New Roman,serif\" font-size=\"14.00\">Gemini</text>\n<text text-anchor=\"middle\" x=\"892.93\" y=\"-372.83\" font-family=\"Times New Roman,serif\" font-size=\"14.00\">&#45;25M $</text>\n</g>\n<!-- gemi&#45;&gt;unkn -->\n<g id=\"edge19\" class=\"edge\">\n<title>gemi&#45;&gt;unkn</title>\n<path fill=\"none\" stroke=\"grey\" stroke-dasharray=\"5,2\" d=\"M925.42,-427.58C939.75,-444.08 957.7,-462.03 976.93,-474.72 1017.76,-501.68 1069.96,-520.12 1110.52,-531.59\"/>\n<polygon fill=\"grey\" stroke=\"grey\" points=\"1109.33,-534.9 1119.9,-534.17 1111.19,-528.15 1109.33,-534.9\"/>\n<text text-anchor=\"middle\" x=\"995.43\" y=\"-463.52\" font-family=\"Times New Roman,serif\" font-size=\"14.00\">55M $</text>\n</g>\n<!-- gene -->\n<g id=\"node13\" class=\"node\">\n<title>gene</title>\n<ellipse fill=\"#e63946\" stroke=\"#e63946\" cx=\"1023.93\" cy=\"-384.03\" rx=\"57.88\" ry=\"57.88\"/>\n<text text-anchor=\"middle\" x=\"1023.93\" y=\"-387.83\" font-family=\"Times New Roman,serif\" font-size=\"14.00\">Genesis Trading</text>\n<text text-anchor=\"middle\" x=\"1023.93\" y=\"-372.83\" font-family=\"Times New Roman,serif\" font-size=\"14.00\">0M $</text>\n</g>\n<!-- gene&#45;&gt;unkn -->\n<g id=\"edge20\" class=\"edge\">\n<title>gene&#45;&gt;unkn</title>\n<path fill=\"none\" stroke=\"grey\" stroke-dasharray=\"5,2\" d=\"M1047.79,-436.98C1055.13,-450.07 1063.95,-463.56 1073.93,-474.72 1086.72,-489.01 1102.82,-502.07 1118.4,-513.03\"/>\n<polygon fill=\"grey\" stroke=\"grey\" points=\"1116,-515.63 1126.23,-518.38 1119.94,-509.85 1116,-515.63\"/>\n<text text-anchor=\"middle\" x=\"1092.43\" y=\"-463.52\" font-family=\"Times New Roman,serif\" font-size=\"14.00\">14M $</text>\n</g>\n<!-- just -->\n<g id=\"node14\" class=\"node\">\n<title>just</title>\n<ellipse fill=\"#e63946\" stroke=\"#e63946\" cx=\"1881.93\" cy=\"-547.74\" rx=\"54\" ry=\"54\"/>\n<text text-anchor=\"middle\" x=\"1881.93\" y=\"-551.54\" font-family=\"Times New Roman,serif\" font-size=\"14.00\">Justin Sun</text>\n<text text-anchor=\"middle\" x=\"1881.93\" y=\"-536.54\" font-family=\"Times New Roman,serif\" font-size=\"14.00\">0M $</text>\n</g>\n<!-- just&#45;&gt;bina -->\n<g id=\"edge21\" class=\"edge\">\n<title>just&#45;&gt;bina</title>\n<path fill=\"none\" stroke=\"grey\" stroke-dasharray=\"5,2\" d=\"M1920.13,-508.92C1930.57,-494.05 1937.44,-476.54 1930.93,-459.72 1926.52,-448.33 1919.48,-437.61 1911.56,-428.03\"/>\n<polygon fill=\"grey\" stroke=\"grey\" points=\"1914.33,-425.89 1905.09,-420.71 1909.08,-430.52 1914.33,-425.89\"/>\n<text text-anchor=\"middle\" x=\"1954.43\" y=\"-463.52\" font-family=\"Times New Roman,serif\" font-size=\"14.00\">269M $</text>\n</g>\n<!-- krak&#45;&gt;bitf -->\n<g id=\"edge22\" class=\"edge\">\n<title>krak&#45;&gt;bitf</title>\n<path fill=\"none\" stroke=\"grey\" stroke-dasharray=\"5,2\" d=\"M2267.05,-86.76C2249.46,-99.31 2229.74,-114.86 2213.93,-131.24 2204.49,-141.03 2195.44,-152.41 2187.34,-163.66\"/>\n<polygon fill=\"grey\" stroke=\"grey\" points=\"2184.51,-161.6 2181.64,-171.8 2190.24,-165.62 2184.51,-161.6\"/>\n<text text-anchor=\"middle\" x=\"2235.43\" y=\"-135.04\" font-family=\"Times New Roman,serif\" font-size=\"14.00\">198M $</text>\n</g>\n<!-- krak&#45;&gt;unkn -->\n<g id=\"edge23\" class=\"edge\">\n<title>krak&#45;&gt;unkn</title>\n<path fill=\"none\" stroke=\"grey\" stroke-dasharray=\"5,2\" d=\"M2318.51,-110.63C2319.13,-122.37 2319.14,-134.74 2317.93,-146.24 2310.89,-213.01 2295.16,-387.97 2254.93,-441.72 2236.46,-466.4 2223.62,-466.44 2193.93,-474.72 2113.57,-497.13 1902.18,-487.24 1818.93,-492.72 1607.65,-506.65 1357.91,-529.4 1241.22,-540.39\"/>\n<polygon fill=\"grey\" stroke=\"grey\" points=\"1241.15,-536.89 1231.52,-541.31 1241.81,-543.85 1241.15,-536.89\"/>\n<text text-anchor=\"middle\" x=\"2320.43\" y=\"-297.15\" font-family=\"Times New Roman,serif\" font-size=\"14.00\">372M $</text>\n</g>\n<!-- lido -->\n<g id=\"node16\" class=\"node\">\n<title>lido</title>\n<ellipse fill=\"#e63946\" stroke=\"#e63946\" cx=\"1153.93\" cy=\"-384.03\" rx=\"54\" ry=\"54\"/>\n<text text-anchor=\"middle\" x=\"1153.93\" y=\"-387.83\" font-family=\"Times New Roman,serif\" font-size=\"14.00\">Lido</text>\n<text text-anchor=\"middle\" x=\"1153.93\" y=\"-372.83\" font-family=\"Times New Roman,serif\" font-size=\"14.00\">&#45;65M $</text>\n</g>\n<!-- lido&#45;&gt;unkn -->\n<g id=\"edge24\" class=\"edge\">\n<title>lido&#45;&gt;unkn</title>\n<path fill=\"none\" stroke=\"grey\" stroke-dasharray=\"5,2\" d=\"M1160.82,-438.1C1162.62,-451.97 1164.59,-467.08 1166.46,-481.51\"/>\n<polygon fill=\"grey\" stroke=\"grey\" points=\"1162.99,-481.93 1167.74,-491.39 1169.93,-481.03 1162.99,-481.93\"/>\n<text text-anchor=\"middle\" x=\"1187.43\" y=\"-463.52\" font-family=\"Times New Roman,serif\" font-size=\"14.00\">240M $</text>\n</g>\n<!-- luno -->\n<g id=\"node17\" class=\"node\">\n<title>luno</title>\n<ellipse fill=\"#e63946\" stroke=\"#e63946\" cx=\"1279.93\" cy=\"-384.03\" rx=\"54\" ry=\"54\"/>\n<text text-anchor=\"middle\" x=\"1279.93\" y=\"-387.83\" font-family=\"Times New Roman,serif\" font-size=\"14.00\">Luno</text>\n<text text-anchor=\"middle\" x=\"1279.93\" y=\"-372.83\" font-family=\"Times New Roman,serif\" font-size=\"14.00\">15M $</text>\n</g>\n<!-- luno&#45;&gt;unkn -->\n<g id=\"edge25\" class=\"edge\">\n<title>luno&#45;&gt;unkn</title>\n<path fill=\"none\" stroke=\"grey\" stroke-dasharray=\"5,2\" d=\"M1287.46,-437.85C1287.12,-450.51 1284.85,-463.58 1278.93,-474.72 1269.16,-493.14 1252.33,-507.79 1235.03,-518.95\"/>\n<polygon fill=\"grey\" stroke=\"grey\" points=\"1233.43,-515.83 1226.7,-524.01 1237.07,-521.81 1233.43,-515.83\"/>\n<text text-anchor=\"middle\" x=\"1303.43\" y=\"-463.52\" font-family=\"Times New Roman,serif\" font-size=\"14.00\">25M $</text>\n</g>\n<!-- paxo&#45;&gt;bina -->\n<g id=\"edge26\" class=\"edge\">\n<title>paxo&#45;&gt;bina</title>\n<path fill=\"none\" stroke=\"grey\" stroke-dasharray=\"5,2\" d=\"M1887.73,-274.31C1884.36,-289.05 1880.69,-305.17 1877.22,-320.38\"/>\n<polygon fill=\"grey\" stroke=\"grey\" points=\"1873.89,-319.25 1875.08,-329.78 1880.71,-320.81 1873.89,-319.25\"/>\n<text text-anchor=\"middle\" x=\"1903.43\" y=\"-297.15\" font-family=\"Times New Roman,serif\" font-size=\"14.00\">355M $</text>\n</g>\n<!-- paxo&#45;&gt;paxo -->\n<g id=\"edge58\" class=\"edge\">\n<title>paxo&#45;&gt;paxo</title>\n<path fill=\"none\" stroke=\"grey\" stroke-dasharray=\"5,2\" d=\"M1953.81,-234.5C1965.24,-233.01 1973.48,-228.1 1973.48,-219.79 1973.48,-214.47 1970.1,-210.54 1964.66,-208.02\"/>\n<polygon fill=\"grey\" stroke=\"grey\" points=\"1965.84,-204.71 1955.27,-205.48 1964.01,-211.47 1965.84,-204.71\"/>\n<text text-anchor=\"middle\" x=\"2000.98\" y=\"-216.09\" font-family=\"Times New Roman,serif\" font-size=\"14.00\">&#45;3178M $</text>\n</g>\n<!-- poly -->\n<g id=\"node19\" class=\"node\">\n<title>poly</title>\n<ellipse fill=\"#e63946\" stroke=\"#e63946\" cx=\"1408.93\" cy=\"-384.03\" rx=\"57.31\" ry=\"57.31\"/>\n<text text-anchor=\"middle\" x=\"1408.93\" y=\"-387.83\" font-family=\"Times New Roman,serif\" font-size=\"14.00\">Polygon Plasma</text>\n<text text-anchor=\"middle\" x=\"1408.93\" y=\"-372.83\" font-family=\"Times New Roman,serif\" font-size=\"14.00\">5M $</text>\n</g>\n<!-- poly&#45;&gt;unkn -->\n<g id=\"edge27\" class=\"edge\">\n<title>poly&#45;&gt;unkn</title>\n<path fill=\"none\" stroke=\"grey\" stroke-dasharray=\"5,2\" d=\"M1407.41,-441.79C1404.71,-453.77 1399.97,-465.54 1391.93,-474.72 1354.3,-517.73 1290.37,-535.14 1241.62,-542.14\"/>\n<polygon fill=\"grey\" stroke=\"grey\" points=\"1241.17,-538.67 1231.71,-543.44 1242.08,-545.61 1241.17,-538.67\"/>\n<text text-anchor=\"middle\" x=\"1420.43\" y=\"-463.52\" font-family=\"Times New Roman,serif\" font-size=\"14.00\">40M $</text>\n</g>\n<!-- ripp -->\n<g id=\"node20\" class=\"node\">\n<title>ripp</title>\n<ellipse fill=\"#e63946\" stroke=\"#e63946\" cx=\"1537.93\" cy=\"-384.03\" rx=\"54\" ry=\"54\"/>\n<text text-anchor=\"middle\" x=\"1537.93\" y=\"-387.83\" font-family=\"Times New Roman,serif\" font-size=\"14.00\">Ripple Escrow</text>\n<text text-anchor=\"middle\" x=\"1537.93\" y=\"-372.83\" font-family=\"Times New Roman,serif\" font-size=\"14.00\">239M $</text>\n</g>\n<!-- ripp&#45;&gt;unkn -->\n<g id=\"edge28\" class=\"edge\">\n<title>ripp&#45;&gt;unkn</title>\n<path fill=\"none\" stroke=\"grey\" stroke-dasharray=\"5,2\" d=\"M1573.58,-424.79C1584.17,-441.42 1590.08,-460.21 1577.93,-474.72 1535.77,-525.09 1344.43,-540.27 1241.29,-544.82\"/>\n<polygon fill=\"grey\" stroke=\"grey\" points=\"1241.44,-541.31 1231.59,-545.22 1241.73,-548.3 1241.44,-541.31\"/>\n<text text-anchor=\"middle\" x=\"1602.43\" y=\"-463.52\" font-family=\"Times New Roman,serif\" font-size=\"14.00\">94M $</text>\n</g>\n<!-- teth&#45;&gt;bitf -->\n<g id=\"edge29\" class=\"edge\">\n<title>teth&#45;&gt;bitf</title>\n<path fill=\"none\" stroke=\"grey\" stroke-dasharray=\"5,2\" d=\"M2068.65,-112.94C2068.76,-124.31 2070.44,-135.94 2074.93,-146.24 2080.58,-159.22 2089.83,-170.92 2100.01,-180.95\"/>\n<polygon fill=\"grey\" stroke=\"grey\" points=\"2097.5,-183.39 2107.22,-187.6 2102.25,-178.25 2097.5,-183.39\"/>\n<text text-anchor=\"middle\" x=\"2099.93\" y=\"-135.04\" font-family=\"Times New Roman,serif\" font-size=\"14.00\">1280M $</text>\n</g>\n<!-- teth&#45;&gt;teth -->\n<g id=\"edge59\" class=\"edge\">\n<title>teth&#45;&gt;teth</title>\n<path fill=\"none\" stroke=\"grey\" stroke-dasharray=\"5,2\" d=\"M2132.93,-71.48C2144.34,-69.91 2152.55,-64.96 2152.55,-56.62 2152.55,-51.28 2149.18,-47.33 2143.76,-44.76\"/>\n<polygon fill=\"grey\" stroke=\"grey\" points=\"2144.96,-41.46 2134.38,-42.17 2143.09,-48.21 2144.96,-41.46\"/>\n<text text-anchor=\"middle\" x=\"2169.55\" y=\"-52.92\" font-family=\"Times New Roman,serif\" font-size=\"14.00\">&#45;1M $</text>\n</g>\n<!-- teth&#45;&gt;unkn -->\n<g id=\"edge30\" class=\"edge\">\n<title>teth&#45;&gt;unkn</title>\n<path fill=\"none\" stroke=\"grey\" stroke-dasharray=\"5,2\" d=\"M2067.93,-112.98C2067.11,-119.12 2066.41,-125.3 2065.93,-131.24 2065.39,-137.89 2065.73,-139.58 2065.93,-146.24 2067.94,-211.87 2105.52,-390.11 2064.93,-441.72 2035.48,-479.18 2009.61,-465.16 1962.93,-474.72 1893.09,-489.03 1418.46,-527.48 1241.37,-541.52\"/>\n<polygon fill=\"grey\" stroke=\"grey\" points=\"1241.35,-538.01 1231.66,-542.29 1241.9,-544.99 1241.35,-538.01\"/>\n<text text-anchor=\"middle\" x=\"2103.43\" y=\"-297.15\" font-family=\"Times New Roman,serif\" font-size=\"14.00\">996M $</text>\n</g>\n<!-- usdc -->\n<g id=\"node22\" class=\"node\">\n<title>usdc</title>\n<ellipse fill=\"#e63946\" stroke=\"#e63946\" cx=\"429.93\" cy=\"-710.91\" rx=\"57.31\" ry=\"57.31\"/>\n<text text-anchor=\"middle\" x=\"429.93\" y=\"-714.71\" font-family=\"Times New Roman,serif\" font-size=\"14.00\">USDC Treasury</text>\n<text text-anchor=\"middle\" x=\"429.93\" y=\"-699.71\" font-family=\"Times New Roman,serif\" font-size=\"14.00\">&#45;2028M $</text>\n</g>\n<!-- usdc&#45;&gt;coin -->\n<g id=\"edge31\" class=\"edge\">\n<title>usdc&#45;&gt;coin</title>\n<path fill=\"none\" stroke=\"grey\" stroke-dasharray=\"5,2\" d=\"M375.95,-690.52C297.54,-659.06 155.05,-588.66 95.93,-474.72 91.52,-466.22 89.84,-456.66 89.84,-447.04\"/>\n<polygon fill=\"grey\" stroke=\"grey\" points=\"93.31,-447.49 90.45,-437.29 86.33,-447.05 93.31,-447.49\"/>\n<text text-anchor=\"middle\" x=\"234.93\" y=\"-544.04\" font-family=\"Times New Roman,serif\" font-size=\"14.00\">8921M $</text>\n</g>\n<!-- usdc&#45;&gt;cryp -->\n<g id=\"edge32\" class=\"edge\">\n<title>usdc&#45;&gt;cryp</title>\n<path fill=\"none\" stroke=\"grey\" stroke-dasharray=\"5,2\" d=\"M372.61,-704.78C301.81,-695.63 181.38,-670.56 104.93,-602.76 10.81,-519.28 -42.22,-418.02 43.93,-326.35 100.81,-265.82 1369.78,-230.12 1675.24,-222.39\"/>\n<polygon fill=\"grey\" stroke=\"grey\" points=\"1675.12,-225.89 1685.02,-222.14 1674.94,-218.9 1675.12,-225.89\"/>\n<text text-anchor=\"middle\" x=\"31.43\" y=\"-463.52\" font-family=\"Times New Roman,serif\" font-size=\"14.00\">217M $</text>\n</g>\n<!-- usdc&#45;&gt;just -->\n<g id=\"edge33\" class=\"edge\">\n<title>usdc&#45;&gt;just</title>\n<path fill=\"none\" stroke=\"grey\" stroke-dasharray=\"5,2\" d=\"M487.07,-702.1C577.34,-690.01 758.57,-666.82 912.93,-653.76 988.1,-647.4 1178.65,-653.68 1251.93,-635.76 1267.58,-631.93 1269.42,-625.11 1284.93,-620.76 1473.04,-568.02 1705.13,-553.9 1816.4,-550.12\"/>\n<polygon fill=\"grey\" stroke=\"grey\" points=\"1816.35,-553.63 1826.23,-549.81 1816.13,-546.63 1816.35,-553.63\"/>\n<text text-anchor=\"middle\" x=\"1306.43\" y=\"-624.56\" font-family=\"Times New Roman,serif\" font-size=\"14.00\">269M $</text>\n</g>\n<!-- usdc&#45;&gt;usdc -->\n<g id=\"edge60\" class=\"edge\">\n<title>usdc&#45;&gt;usdc</title>\n<path fill=\"none\" stroke=\"grey\" stroke-dasharray=\"5,2\" d=\"M485.65,-725.82C496.98,-724.2 505.09,-719.23 505.09,-710.91 505.09,-705.59 501.76,-701.63 496.39,-699.05\"/>\n<polygon fill=\"grey\" stroke=\"grey\" points=\"497.68,-695.78 487.11,-696.42 495.77,-702.52 497.68,-695.78\"/>\n<text text-anchor=\"middle\" x=\"526.59\" y=\"-707.21\" font-family=\"Times New Roman,serif\" font-size=\"14.00\">118M $</text>\n</g>\n<!-- usdc&#45;&gt;unkn -->\n<g id=\"edge34\" class=\"edge\">\n<title>usdc&#45;&gt;unkn</title>\n<path fill=\"none\" stroke=\"grey\" stroke-dasharray=\"5,2\" d=\"M485.93,-697.8C621.48,-668.48 966.65,-593.8 1110.49,-562.68\"/>\n<polygon fill=\"grey\" stroke=\"grey\" points=\"1110.8,-566.2 1119.83,-560.66 1109.32,-559.36 1110.8,-566.2\"/>\n<text text-anchor=\"middle\" x=\"846.43\" y=\"-624.56\" font-family=\"Times New Roman,serif\" font-size=\"14.00\">974M $</text>\n</g>\n<!-- wrap -->\n<g id=\"node23\" class=\"node\">\n<title>wrap</title>\n<ellipse fill=\"#e63946\" stroke=\"#e63946\" cx=\"1353.93\" cy=\"-710.91\" rx=\"54.47\" ry=\"54.47\"/>\n<text text-anchor=\"middle\" x=\"1353.93\" y=\"-714.71\" font-family=\"Times New Roman,serif\" font-size=\"14.00\">Wrapped Ether</text>\n<text text-anchor=\"middle\" x=\"1353.93\" y=\"-699.71\" font-family=\"Times New Roman,serif\" font-size=\"14.00\">&#45;138M $</text>\n</g>\n<!-- wrap&#45;&gt;unkn -->\n<g id=\"edge35\" class=\"edge\">\n<title>wrap&#45;&gt;unkn</title>\n<path fill=\"none\" stroke=\"grey\" stroke-dasharray=\"5,2\" d=\"M1348.81,-656.3C1345.52,-643.6 1340.27,-630.83 1331.93,-620.76 1308.57,-592.53 1271.74,-574.84 1239.63,-564.06\"/>\n<polygon fill=\"grey\" stroke=\"grey\" points=\"1240.98,-560.82 1230.38,-561.13 1238.85,-567.49 1240.98,-560.82\"/>\n<text text-anchor=\"middle\" x=\"1363.43\" y=\"-624.56\" font-family=\"Times New Roman,serif\" font-size=\"14.00\">138M $</text>\n</g>\n<!-- unkn&#45;&gt;aave -->\n<g id=\"edge36\" class=\"edge\">\n<title>unkn&#45;&gt;aave</title>\n<path fill=\"none\" stroke=\"grey\" stroke-dasharray=\"5,2\" d=\"M1167.15,-602.53C1167.16,-613.73 1168.43,-625.3 1171.93,-635.76 1174.95,-644.77 1179.55,-653.57 1184.84,-661.77\"/>\n<polygon fill=\"grey\" stroke=\"grey\" points=\"1181.87,-663.63 1190.45,-669.85 1187.63,-659.64 1181.87,-663.63\"/>\n<text text-anchor=\"middle\" x=\"1186.93\" y=\"-624.56\" font-family=\"Times New Roman,serif\" font-size=\"14.00\">9M $</text>\n</g>\n<!-- unkn&#45;&gt;bina -->\n<g id=\"edge37\" class=\"edge\">\n<title>unkn&#45;&gt;bina</title>\n<path fill=\"none\" stroke=\"grey\" stroke-dasharray=\"5,2\" d=\"M1230.03,-542.96C1389.35,-531.75 1840.67,-498.07 1861.93,-474.72 1868.64,-467.36 1872.05,-458.08 1873.41,-448.3\"/>\n<polygon fill=\"grey\" stroke=\"grey\" points=\"1876.88,-448.84 1874.03,-438.64 1869.9,-448.39 1876.88,-448.84\"/>\n<text text-anchor=\"middle\" x=\"1891.43\" y=\"-463.52\" font-family=\"Times New Roman,serif\" font-size=\"14.00\">599M $</text>\n</g>\n<!-- unkn&#45;&gt;bitf -->\n<g id=\"edge38\" class=\"edge\">\n<title>unkn&#45;&gt;bitf</title>\n<path fill=\"none\" stroke=\"grey\" stroke-dasharray=\"5,2\" d=\"M1230.03,-541.71C1341.28,-531.63 1600.72,-508.6 1818.93,-492.72 1851.35,-490.36 2086.64,-496.33 2110.93,-474.72 2138.43,-450.26 2147.93,-352.15 2151.21,-285.29\"/>\n<polygon fill=\"grey\" stroke=\"grey\" points=\"2154.69,-285.68 2151.65,-275.54 2147.7,-285.37 2154.69,-285.68\"/>\n<text text-anchor=\"middle\" x=\"2169.43\" y=\"-380.33\" font-family=\"Times New Roman,serif\" font-size=\"14.00\">317M $</text>\n</g>\n<!-- unkn&#45;&gt;bits -->\n<g id=\"edge39\" class=\"edge\">\n<title>unkn&#45;&gt;bits</title>\n<path fill=\"none\" stroke=\"grey\" stroke-dasharray=\"5,2\" d=\"M1119.51,-546.39C936.8,-544.68 361.98,-534.52 306.93,-474.72 297.84,-464.85 297.55,-452.09 301.36,-439.31\"/>\n<polygon fill=\"grey\" stroke=\"grey\" points=\"304.6,-440.65 304.88,-430.05 298.06,-438.16 304.6,-440.65\"/>\n<text text-anchor=\"middle\" x=\"325.43\" y=\"-463.52\" font-family=\"Times New Roman,serif\" font-size=\"14.00\">43M $</text>\n</g>\n<!-- unkn&#45;&gt;bits -->\n<g id=\"edge40\" class=\"edge\">\n<title>unkn&#45;&gt;bits</title>\n<path fill=\"none\" stroke=\"grey\" stroke-dasharray=\"5,2\" d=\"M1119.68,-547.15C964.66,-547.44 529,-542.07 405.93,-474.72 391.29,-466.71 378.69,-454.22 368.37,-441.07\"/>\n<polygon fill=\"grey\" stroke=\"grey\" points=\"371.26,-439.09 362.5,-433.13 365.63,-443.25 371.26,-439.09\"/>\n<text text-anchor=\"middle\" x=\"427.43\" y=\"-463.52\" font-family=\"Times New Roman,serif\" font-size=\"14.00\">253M $</text>\n</g>\n<!-- unkn&#45;&gt;coin -->\n<g id=\"edge41\" class=\"edge\">\n<title>unkn&#45;&gt;coin</title>\n<path fill=\"none\" stroke=\"grey\" stroke-dasharray=\"5,2\" d=\"M1119.63,-545.13C923.84,-539.08 270.73,-515.99 186.93,-474.72 170.04,-466.4 155.11,-452.8 142.86,-438.67\"/>\n<polygon fill=\"grey\" stroke=\"grey\" points=\"145.61,-436.51 136.55,-431.02 140.21,-440.96 145.61,-436.51\"/>\n<text text-anchor=\"middle\" x=\"211.93\" y=\"-463.52\" font-family=\"Times New Roman,serif\" font-size=\"14.00\">2002M $</text>\n</g>\n<!-- unkn&#45;&gt;comp -->\n<g id=\"edge42\" class=\"edge\">\n<title>unkn&#45;&gt;comp</title>\n<path fill=\"none\" stroke=\"grey\" stroke-dasharray=\"5,2\" d=\"M1119.42,-546.84C984.13,-546.06 641.79,-537.76 549.93,-474.72 539.28,-467.41 530.87,-456.91 524.3,-445.65\"/>\n<polygon fill=\"grey\" stroke=\"grey\" points=\"527.47,-444.16 519.69,-436.96 521.28,-447.44 527.47,-444.16\"/>\n<text text-anchor=\"middle\" x=\"568.43\" y=\"-463.52\" font-family=\"Times New Roman,serif\" font-size=\"14.00\">55M $</text>\n</g>\n<!-- unkn&#45;&gt;falc -->\n<g id=\"edge43\" class=\"edge\">\n<title>unkn&#45;&gt;falc</title>\n<path fill=\"none\" stroke=\"grey\" stroke-dasharray=\"5,2\" d=\"M1119.48,-545.14C1005.13,-540.81 748.07,-525.56 678.93,-474.72 669.03,-467.44 661.3,-457.27 655.32,-446.38\"/>\n<polygon fill=\"grey\" stroke=\"grey\" points=\"658.54,-445.01 650.97,-437.6 652.27,-448.11 658.54,-445.01\"/>\n<text text-anchor=\"middle\" x=\"700.43\" y=\"-463.52\" font-family=\"Times New Roman,serif\" font-size=\"14.00\">170M $</text>\n</g>\n<!-- unkn&#45;&gt;gate -->\n<g id=\"edge44\" class=\"edge\">\n<title>unkn&#45;&gt;gate</title>\n<path fill=\"none\" stroke=\"grey\" stroke-dasharray=\"5,2\" d=\"M1119.93,-542.74C1027.6,-534.97 846.83,-514.97 798.93,-474.72 790.42,-467.57 784.04,-458.05 779.25,-447.89\"/>\n<polygon fill=\"grey\" stroke=\"grey\" points=\"782.62,-446.86 775.55,-438.97 776.15,-449.54 782.62,-446.86\"/>\n<text text-anchor=\"middle\" x=\"817.43\" y=\"-463.52\" font-family=\"Times New Roman,serif\" font-size=\"14.00\">23M $</text>\n</g>\n<!-- unkn&#45;&gt;gemi -->\n<g id=\"edge45\" class=\"edge\">\n<title>unkn&#45;&gt;gemi</title>\n<path fill=\"none\" stroke=\"grey\" stroke-dasharray=\"5,2\" d=\"M1119.49,-546.33C1061.45,-542.84 971.47,-528.33 917.93,-474.72 910.79,-467.58 905.65,-458.58 901.96,-449.05\"/>\n<polygon fill=\"grey\" stroke=\"grey\" points=\"905.29,-447.99 898.84,-439.58 898.64,-450.18 905.29,-447.99\"/>\n<text text-anchor=\"middle\" x=\"936.43\" y=\"-463.52\" font-family=\"Times New Roman,serif\" font-size=\"14.00\">30M $</text>\n</g>\n<!-- unkn&#45;&gt;gene -->\n<g id=\"edge46\" class=\"edge\">\n<title>unkn&#45;&gt;gene</title>\n<path fill=\"none\" stroke=\"grey\" stroke-dasharray=\"5,2\" d=\"M1120.8,-536.44C1086.35,-526.78 1044.32,-508.53 1022.93,-474.72 1018.69,-468.02 1016.17,-460.42 1014.87,-452.56\"/>\n<polygon fill=\"grey\" stroke=\"grey\" points=\"1018.37,-452.46 1013.92,-442.85 1011.41,-453.14 1018.37,-452.46\"/>\n<text text-anchor=\"middle\" x=\"1041.43\" y=\"-463.52\" font-family=\"Times New Roman,serif\" font-size=\"14.00\">14M $</text>\n</g>\n<!-- unkn&#45;&gt;krak -->\n<g id=\"edge48\" class=\"edge\">\n<title>unkn&#45;&gt;krak</title>\n<path fill=\"none\" stroke=\"grey\" stroke-dasharray=\"5,2\" d=\"M1230.01,-541.38C1341.22,-530.71 1600.59,-506.67 1818.93,-492.72 1909.95,-486.91 2141.21,-499.66 2228.93,-474.72 2315.4,-450.15 2326.18,-396.47 2343.93,-308.35 2356.81,-244.42 2343.95,-170.23 2330.9,-119.23\"/>\n<polygon fill=\"grey\" stroke=\"grey\" points=\"2334.36,-118.63 2328.42,-109.86 2327.6,-120.42 2334.36,-118.63\"/>\n<text text-anchor=\"middle\" x=\"2364.43\" y=\"-297.15\" font-family=\"Times New Roman,serif\" font-size=\"14.00\">10M $</text>\n</g>\n<!-- unkn&#45;&gt;lido -->\n<g id=\"edge49\" class=\"edge\">\n<title>unkn&#45;&gt;lido</title>\n<path fill=\"none\" stroke=\"grey\" stroke-dasharray=\"5,2\" d=\"M1136.14,-508.22C1128.29,-498.12 1121.15,-486.68 1116.93,-474.72 1112.77,-462.93 1114.14,-450.43 1118.18,-438.62\"/>\n<polygon fill=\"grey\" stroke=\"grey\" points=\"1121.4,-440 1121.98,-429.42 1114.93,-437.33 1121.4,-440\"/>\n<text text-anchor=\"middle\" x=\"1138.43\" y=\"-463.52\" font-family=\"Times New Roman,serif\" font-size=\"14.00\">175M $</text>\n</g>\n<!-- unkn&#45;&gt;luno -->\n<g id=\"edge50\" class=\"edge\">\n<title>unkn&#45;&gt;luno</title>\n<path fill=\"none\" stroke=\"grey\" stroke-dasharray=\"5,2\" d=\"M1204.46,-501.27C1216.92,-482.08 1231.53,-459.58 1244.55,-439.52\"/>\n<polygon fill=\"grey\" stroke=\"grey\" points=\"1247.47,-441.45 1249.98,-431.16 1241.6,-437.64 1247.47,-441.45\"/>\n<text text-anchor=\"middle\" x=\"1249.43\" y=\"-463.52\" font-family=\"Times New Roman,serif\" font-size=\"14.00\">40M $</text>\n</g>\n<!-- unkn&#45;&gt;paxo -->\n<g id=\"edge51\" class=\"edge\">\n<title>unkn&#45;&gt;paxo</title>\n<path fill=\"none\" stroke=\"grey\" stroke-dasharray=\"5,2\" d=\"M1230.15,-543.43C1379.04,-534.18 1786.34,-506.64 1916.93,-474.72 1955.09,-465.4 1976.94,-474.28 1998.93,-441.72 2027.64,-399.23 2023.13,-371.56 1998.93,-326.35 1992.13,-313.63 1982.63,-318.02 1971.93,-308.35 1960.54,-298.04 1949.4,-285.88 1939.42,-273.96\"/>\n<polygon fill=\"grey\" stroke=\"grey\" points=\"1942.37,-272.04 1933.33,-266.51 1936.95,-276.47 1942.37,-272.04\"/>\n<text text-anchor=\"middle\" x=\"2039.43\" y=\"-380.33\" font-family=\"Times New Roman,serif\" font-size=\"14.00\">300M $</text>\n</g>\n<!-- unkn&#45;&gt;poly -->\n<g id=\"edge52\" class=\"edge\">\n<title>unkn&#45;&gt;poly</title>\n<path fill=\"none\" stroke=\"grey\" stroke-dasharray=\"5,2\" d=\"M1229.83,-539.85C1300.47,-529.73 1417.17,-508.32 1442.93,-474.72 1450.53,-464.81 1450.76,-453 1447.28,-441.26\"/>\n<polygon fill=\"grey\" stroke=\"grey\" points=\"1450.56,-440.04 1443.69,-431.97 1444.03,-442.56 1450.56,-440.04\"/>\n<text text-anchor=\"middle\" x=\"1466.43\" y=\"-463.52\" font-family=\"Times New Roman,serif\" font-size=\"14.00\">35M $</text>\n</g>\n<!-- unkn&#45;&gt;poly -->\n<g id=\"edge53\" class=\"edge\">\n<title>unkn&#45;&gt;poly</title>\n<path fill=\"none\" stroke=\"grey\" stroke-dasharray=\"5,2\" d=\"M1226.56,-527.84C1257.06,-515.33 1295.52,-497.11 1325.93,-474.72 1340.23,-464.2 1354.04,-450.97 1366.17,-437.94\"/>\n<polygon fill=\"grey\" stroke=\"grey\" points=\"1368.74,-440.31 1372.86,-430.55 1363.56,-435.61 1368.74,-440.31\"/>\n<text text-anchor=\"middle\" x=\"1359.93\" y=\"-463.52\" font-family=\"Times New Roman,serif\" font-size=\"14.00\">5M $</text>\n</g>\n<!-- unkn&#45;&gt;ripp -->\n<g id=\"edge54\" class=\"edge\">\n<title>unkn&#45;&gt;ripp</title>\n<path fill=\"none\" stroke=\"grey\" stroke-dasharray=\"5,2\" d=\"M1230.04,-546.44C1338.78,-544.54 1574.75,-533.57 1624.93,-474.72 1629.26,-469.65 1627.91,-465.69 1624.93,-459.72 1618.97,-447.8 1611.23,-450.19 1600.93,-441.72 1595.91,-437.59 1590.74,-433.2 1585.63,-428.75\"/>\n<polygon fill=\"grey\" stroke=\"grey\" points=\"1588.07,-426.24 1578.25,-422.27 1583.45,-431.5 1588.07,-426.24\"/>\n<text text-anchor=\"middle\" x=\"1648.43\" y=\"-463.52\" font-family=\"Times New Roman,serif\" font-size=\"14.00\">119M $</text>\n</g>\n<!-- unkn&#45;&gt;ripp -->\n<g id=\"edge55\" class=\"edge\">\n<title>unkn&#45;&gt;ripp</title>\n<path fill=\"none\" stroke=\"grey\" stroke-dasharray=\"5,2\" d=\"M1230.28,-547.3C1297.86,-545.23 1412.57,-532.54 1488.93,-474.72 1499.22,-466.94 1507.61,-456.34 1514.36,-445.15\"/>\n<polygon fill=\"grey\" stroke=\"grey\" points=\"1517.34,-446.99 1519.14,-436.55 1511.22,-443.59 1517.34,-446.99\"/>\n<text text-anchor=\"middle\" x=\"1523.43\" y=\"-463.52\" font-family=\"Times New Roman,serif\" font-size=\"14.00\">239M $</text>\n</g>\n<!-- unkn&#45;&gt;unkn -->\n<g id=\"edge56\" class=\"edge\">\n<title>unkn&#45;&gt;unkn</title>\n<path fill=\"none\" stroke=\"grey\" stroke-dasharray=\"5,2\" d=\"M1228.42,-562.35C1239.76,-560.87 1247.95,-556 1247.95,-547.74 1247.95,-542.45 1244.59,-538.55 1239.19,-536.04\"/>\n<polygon fill=\"grey\" stroke=\"grey\" points=\"1240.45,-532.76 1229.88,-533.53 1238.62,-539.51 1240.45,-532.76\"/>\n<text text-anchor=\"middle\" x=\"1272.95\" y=\"-544.04\" font-family=\"Times New Roman,serif\" font-size=\"14.00\">8074M $</text>\n</g>\n<!-- huob -->\n<g id=\"node25\" class=\"node\">\n<title>huob</title>\n<ellipse fill=\"#e63946\" stroke=\"#e63946\" cx=\"1663.93\" cy=\"-384.03\" rx=\"54\" ry=\"54\"/>\n<text text-anchor=\"middle\" x=\"1663.93\" y=\"-387.83\" font-family=\"Times New Roman,serif\" font-size=\"14.00\">Huobi</text>\n<text text-anchor=\"middle\" x=\"1663.93\" y=\"-372.83\" font-family=\"Times New Roman,serif\" font-size=\"14.00\">47M $</text>\n</g>\n<!-- unkn&#45;&gt;huob -->\n<g id=\"edge47\" class=\"edge\">\n<title>unkn&#45;&gt;huob</title>\n<path fill=\"none\" stroke=\"grey\" stroke-dasharray=\"5,2\" d=\"M1230.09,-547.41C1347.69,-547.54 1616.99,-540.48 1673.93,-474.72 1680.86,-466.72 1683.44,-456.7 1683.47,-446.27\"/>\n<polygon fill=\"grey\" stroke=\"grey\" points=\"1686.97,-446.1 1682.72,-436.39 1679.99,-446.63 1686.97,-446.1\"/>\n<text text-anchor=\"middle\" x=\"1699.43\" y=\"-463.52\" font-family=\"Times New Roman,serif\" font-size=\"14.00\">47M $</text>\n</g>\n</g>\n</svg>\n",
      "text/plain": [
       "<graphviz.graphs.Digraph at 0x2361476bbb0>"
      ]
     },
     "execution_count": 36,
     "metadata": {},
     "output_type": "execute_result"
    }
   ],
   "source": [
    "dot"
   ]
  }
 ],
 "metadata": {
  "kernelspec": {
   "display_name": "Python 3",
   "language": "python",
   "name": "python3"
  },
  "language_info": {
   "codemirror_mode": {
    "name": "ipython",
    "version": 3
   },
   "file_extension": ".py",
   "mimetype": "text/x-python",
   "name": "python",
   "nbconvert_exporter": "python",
   "pygments_lexer": "ipython3",
   "version": "3.10.6"
  },
  "orig_nbformat": 4,
  "vscode": {
   "interpreter": {
    "hash": "c852efe9f9cc63a649af64212ef40e6d4b4baaf1e9b7bb3cd8e25d1d1a2258ae"
   }
  }
 },
 "nbformat": 4,
 "nbformat_minor": 2
}
